{
  "nbformat": 4,
  "nbformat_minor": 0,
  "metadata": {
    "colab": {
      "provenance": []
    },
    "kernelspec": {
      "name": "python3",
      "display_name": "Python 3"
    },
    "language_info": {
      "name": "python"
    }
  },
  "cells": [
    {
      "cell_type": "markdown",
      "source": [
        "BFS"
      ],
      "metadata": {
        "id": "5wbbUWYbzP-F"
      }
    },
    {
      "cell_type": "code",
      "execution_count": 6,
      "metadata": {
        "colab": {
          "base_uri": "https://localhost:8080/"
        },
        "id": "bc9oDGu-xqoo",
        "outputId": "25e17403-0937-4a02-a8e3-322d0c05e768"
      },
      "outputs": [
        {
          "output_type": "stream",
          "name": "stdout",
          "text": [
            "Solving using BFS:\n",
            "[1, 2, 3]\n",
            "[4, 5, 6]\n",
            "[7, 8, 0]\n"
          ]
        }
      ],
      "source": [
        "from collections import deque\n",
        "\n",
        "class PuzzleState:\n",
        "    def __init__(self, board, row, col, parent=None):\n",
        "        self.board = board\n",
        "        self.row = row\n",
        "        self.col = col\n",
        "        self.parent = parent\n",
        "\n",
        "    def is_goal(self, goal):\n",
        "        return self.board == goal\n",
        "\n",
        "    def generate_children(self):\n",
        "        children = []\n",
        "        moves = [(-1, 0), (1, 0), (0, -1), (0, 1)]\n",
        "        for row_move, col_move in moves:\n",
        "            new_row, new_col = self.row + row_move, self.col + col_move\n",
        "            if 0 <= new_row < 3 and 0 <= new_col < 3:\n",
        "                new_board = [row[:] for row in self.board]\n",
        "                new_board[self.row][self.col], new_board[new_row][new_col] = new_board[new_row][new_col], new_board[self.row][self.col]\n",
        "                children.append(PuzzleState(new_board, new_row, new_col, self))\n",
        "        return children\n",
        "\n",
        "def find_zero(board):\n",
        "    for i in range(3):\n",
        "        for j in range(3):\n",
        "            if board[i][j] == 0:\n",
        "                return i, j\n",
        "\n",
        "def solve_bfs(start, goal):\n",
        "    start_row, start_col = find_zero(start)\n",
        "    start_state = PuzzleState(start, start_row, start_col)\n",
        "    queue = deque([start_state])\n",
        "    visited = set()\n",
        "    visited.add(tuple(map(tuple, start)))\n",
        "\n",
        "    while queue:\n",
        "        current = queue.popleft()\n",
        "\n",
        "        if current.is_goal(goal):\n",
        "            for row in current.board:\n",
        "                print(row)\n",
        "            return\n",
        "\n",
        "        for child in current.generate_children():\n",
        "            child_board_tuple = tuple(map(tuple, child.board))\n",
        "            if child_board_tuple not in visited:\n",
        "                queue.append(child)\n",
        "                visited.add(child_board_tuple)\n",
        "\n",
        "    print(\"No solution found with BFS.\")\n",
        "\n",
        "# Example usage\n",
        "if __name__ == \"__main__\":\n",
        "    start = [\n",
        "        [1, 2, 3],\n",
        "        [4, 0, 5],\n",
        "        [6, 7, 8]\n",
        "    ]\n",
        "\n",
        "    goal = [\n",
        "        [1, 2, 3],\n",
        "        [4, 5, 6],\n",
        "        [7, 8, 0]\n",
        "    ]\n",
        "\n",
        "    print(\"Solving using BFS:\")\n",
        "    solve_bfs(start, goal)\n"
      ]
    },
    {
      "cell_type": "markdown",
      "source": [
        "DFS"
      ],
      "metadata": {
        "id": "gSfiYuYWzNNV"
      }
    },
    {
      "cell_type": "code",
      "source": [
        "class PuzzleState:\n",
        "    def __init__(self, board, row, col, parent=None):\n",
        "        self.board = board\n",
        "        self.row = row\n",
        "        self.col = col\n",
        "        self.parent = parent\n",
        "\n",
        "    def is_goal(self, goal):\n",
        "        return self.board == goal\n",
        "\n",
        "    def generate_children(self):\n",
        "        children = []\n",
        "        moves = [(-1, 0), (1, 0), (0, -1), (0, 1)]\n",
        "        for row_move, col_move in moves:\n",
        "            new_row, new_col = self.row + row_move, self.col + col_move\n",
        "            if 0 <= new_row < 3 and 0 <= new_col < 3:\n",
        "                new_board = [row[:] for row in self.board]\n",
        "                new_board[self.row][self.col], new_board[new_row][new_col] = new_board[new_row][new_col], new_board[self.row][self.col]\n",
        "                children.append(PuzzleState(new_board, new_row, new_col, self))\n",
        "        return children\n",
        "\n",
        "def find_zero(board):\n",
        "    for i in range(3):\n",
        "        for j in range(3):\n",
        "            if board[i][j] == 0:\n",
        "                return i, j\n",
        "\n",
        "def solve_dfs(start, goal):\n",
        "    start_row, start_col = find_zero(start)\n",
        "    start_state = PuzzleState(start, start_row, start_col)\n",
        "    stack = [start_state]\n",
        "    visited = set()\n",
        "    visited.add(tuple(map(tuple, start)))\n",
        "\n",
        "    while stack:\n",
        "        current = stack.pop()\n",
        "\n",
        "        if current.is_goal(goal):\n",
        "            for row in current.board:\n",
        "                print(row)\n",
        "            return\n",
        "\n",
        "        for child in current.generate_children():\n",
        "            child_board_tuple = tuple(map(tuple, child.board))\n",
        "            if child_board_tuple not in visited:\n",
        "                stack.append(child)\n",
        "                visited.add(child_board_tuple)\n",
        "\n",
        "    print(\"No solution found with DFS.\")\n",
        "\n",
        "# Example usage\n",
        "if __name__ == \"__main__\":\n",
        "    start = [\n",
        "        [1, 2, 3],\n",
        "        [4, 0, 5],\n",
        "        [6, 7, 8]\n",
        "    ]\n",
        "\n",
        "    goal = [\n",
        "        [1, 2, 3],\n",
        "        [4, 5, 6],\n",
        "        [7, 8, 0]\n",
        "    ]\n",
        "\n",
        "    print(\"Solving using DFS:\")\n",
        "    solve_dfs(start, goal)\n"
      ],
      "metadata": {
        "colab": {
          "base_uri": "https://localhost:8080/"
        },
        "id": "pdh9rPdjx_h6",
        "outputId": "ee4028f4-7408-4a4f-ef0b-88f5eead18d3"
      },
      "execution_count": 7,
      "outputs": [
        {
          "output_type": "stream",
          "name": "stdout",
          "text": [
            "Solving using DFS:\n",
            "[1, 2, 3]\n",
            "[4, 5, 6]\n",
            "[7, 8, 0]\n"
          ]
        }
      ]
    }
  ]
}